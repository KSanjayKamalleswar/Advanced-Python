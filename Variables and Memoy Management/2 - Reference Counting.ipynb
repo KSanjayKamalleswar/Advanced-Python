{
 "cells": [
  {
   "cell_type": "markdown",
   "metadata": {},
   "source": [
    "# Reference Counting"
   ]
  },
  {
   "cell_type": "markdown",
   "metadata": {},
   "source": [
    "When we define a new variable or an object, that object points or references to a memory address which consists or represents the data."
   ]
  },
  {
   "cell_type": "markdown",
   "metadata": {},
   "source": [
    "Now, we can count and analyse how many such variables are referencing to the same memory address and this is known as **Reference Counting**"
   ]
  },
  {
   "cell_type": "code",
   "execution_count": 1,
   "metadata": {},
   "outputs": [
    {
     "name": "stdout",
     "output_type": "stream",
     "text": [
      "0x8df1c0\n",
      "0x8df1c0\n"
     ]
    }
   ],
   "source": [
    "Var_1 = 10\n",
    "Var_2 = Var_1\n",
    "print(hex(id(Var_1)))\n",
    "print(hex(id(Var_2)))"
   ]
  },
  {
   "cell_type": "markdown",
   "metadata": {},
   "source": [
    "Now two variables refer to the same memory address and hence **Reference Count = 2**<br>\n",
    "This reference count is managed and ket track of by the **Python Memory manager**"
   ]
  },
  {
   "cell_type": "markdown",
   "metadata": {},
   "source": [
    "### The Python Way"
   ]
  },
  {
   "cell_type": "markdown",
   "metadata": {},
   "source": [
    "We can get the reference count of a vairable using the following command:"
   ]
  },
  {
   "cell_type": "code",
   "execution_count": 2,
   "metadata": {},
   "outputs": [],
   "source": [
    "import ctypes\n",
    "\n",
    "def ref_count(address):\n",
    "    return ctypes.c_long.from_address(address).value"
   ]
  },
  {
   "cell_type": "code",
   "execution_count": 6,
   "metadata": {},
   "outputs": [
    {
     "name": "stdout",
     "output_type": "stream",
     "text": [
      "161\n"
     ]
    }
   ],
   "source": [
    "Var_1 = int(10)\n",
    "print(ref_count(id(Var_1)))"
   ]
  },
  {
   "cell_type": "markdown",
   "metadata": {},
   "source": [
    "This means that there are 160 variables other than Var_1 which point to int(10)<br>\n",
    "<br>\n",
    "Now, this can also be done in an easier way using the **sys** module\n",
    "What the sys module does is, the function itself creates a reference to that object and hence output is the actual Reference_Count + 1"
   ]
  },
  {
   "cell_type": "code",
   "execution_count": 8,
   "metadata": {},
   "outputs": [
    {
     "data": {
      "text/plain": [
       "164"
      ]
     },
     "execution_count": 8,
     "metadata": {},
     "output_type": "execute_result"
    }
   ],
   "source": [
    "import sys\n",
    "sys.getrefcount(Var_1)"
   ]
  },
  {
   "cell_type": "markdown",
   "metadata": {},
   "source": [
    "Suppose , we connsider two variables as follows:"
   ]
  },
  {
   "cell_type": "code",
   "execution_count": 10,
   "metadata": {},
   "outputs": [
    {
     "name": "stdout",
     "output_type": "stream",
     "text": [
      "Using ctypes :  2\n",
      "Usinf sys :  2\n"
     ]
    }
   ],
   "source": [
    "A = [1,2,3,4]\n",
    "B = A\n",
    "print(\"Using ctypes : \" , ref_count(id(A)))\n",
    "print(\"Usinf sys : \" , sys.getrefcount(A)-1)"
   ]
  },
  {
   "cell_type": "markdown",
   "metadata": {},
   "source": [
    "And when we deallocate B :"
   ]
  },
  {
   "cell_type": "code",
   "execution_count": 11,
   "metadata": {},
   "outputs": [
    {
     "name": "stdout",
     "output_type": "stream",
     "text": [
      "Using ctypes :  1\n",
      "Usinf sys :  1\n"
     ]
    }
   ],
   "source": [
    "B = None\n",
    "print(\"Using ctypes : \" , ref_count(id(A)))\n",
    "print(\"Usinf sys : \" , sys.getrefcount(A)-1)"
   ]
  },
  {
   "cell_type": "markdown",
   "metadata": {},
   "source": [
    "And hence the results"
   ]
  }
 ],
 "metadata": {
  "kernelspec": {
   "display_name": "Python 3",
   "language": "python",
   "name": "python3"
  },
  "language_info": {
   "codemirror_mode": {
    "name": "ipython",
    "version": 3
   },
   "file_extension": ".py",
   "mimetype": "text/x-python",
   "name": "python",
   "nbconvert_exporter": "python",
   "pygments_lexer": "ipython3",
   "version": "3.7.5"
  }
 },
 "nbformat": 4,
 "nbformat_minor": 4
}
