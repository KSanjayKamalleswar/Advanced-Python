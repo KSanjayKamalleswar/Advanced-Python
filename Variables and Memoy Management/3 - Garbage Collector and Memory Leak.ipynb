{
 "cells": [
  {
   "cell_type": "markdown",
   "metadata": {},
   "source": [
    "# Garbage Collection and Memory Leakage"
   ]
  },
  {
   "cell_type": "markdown",
   "metadata": {},
   "source": [
    "**Pretty Cool and Interesting stuff ahead**"
   ]
  },
  {
   "cell_type": "markdown",
   "metadata": {},
   "source": [
    "We have seen about refernce counting in the previous notebook. But, now consider the situation when say an object **My_Var** points to an object **A** which has a parameter/variable which in turn references/points to another object **B**. "
   ]
  },
  {
   "cell_type": "markdown",
   "metadata": {},
   "source": [
    "<img src=\"../files/Circular_Refernce_Normal.png\"></img>"
   ]
  },
  {
   "cell_type": "markdown",
   "metadata": {},
   "source": [
    "Now, when we destroy **my_var**, reference count of object A is zero and hence **A** gets **destroyed**. This in turn causes the reference count of object B to be zero and hence **B** gets **destroyed**. A simple Normal Case"
   ]
  },
  {
   "cell_type": "markdown",
   "metadata": {},
   "source": [
    "But consider the situation when a parameter/variable of object **B** points to **var_1**."
   ]
  },
  {
   "cell_type": "markdown",
   "metadata": {},
   "source": [
    "<img src=\"../files/Circular_Reference.png\"></img>"
   ]
  },
  {
   "cell_type": "markdown",
   "metadata": {},
   "source": [
    "Now, when we destroy the object **my_var**, reference count of **A** is 1(since var_2 now points to **A**) and referne count of object **B** is 1(since var_1 points to **B**). Therefore, none of object **A** or object **B** gets destroyed. This situation is called as **CIRCULAR REFERENCE**"
   ]
  },
  {
   "cell_type": "markdown",
   "metadata": {},
   "source": [
    "### EFFECTS"
   ]
  },
  {
   "cell_type": "markdown",
   "metadata": {},
   "source": [
    "Due to **Circular Reference**, the objects **A** and **B** stays in memory and doesnt get destroted even after the program execution. This leads to **MEMORY  LEAKAGE**. <br>\n",
    "<br>\n",
    "<br>\n",
    "<br>\n",
    "To overcome this situation, the Python Memory Manager provides the **Garbage Collector**, which erases these kinds of objects."
   ]
  },
  {
   "cell_type": "markdown",
   "metadata": {},
   "source": [
    "#### Properties of Garbage Collector(GC)"
   ]
  },
  {
   "cell_type": "markdown",
   "metadata": {},
   "source": [
    "- By default it is turned on\n",
    "- Can be controlled programmatically using the python 'gc' module\n",
    "- runs periodically on its own"
   ]
  },
  {
   "cell_type": "markdown",
   "metadata": {},
   "source": [
    "### Illustration"
   ]
  },
  {
   "cell_type": "code",
   "execution_count": 1,
   "metadata": {},
   "outputs": [],
   "source": [
    "#importing librarires\n",
    "import ctypes\n",
    "import gc\n",
    "\n",
    "#function to get the reference count of an object\n",
    "def ref_count(address):\n",
    "    return ctypes.c_long.from_address(address).value\n",
    "\n",
    "\n",
    "#function to check wether the object exists in memory or not\n",
    "def object_by_id(object_id):\n",
    "    for obj in gc.get_objects():\n",
    "        if id(obj) == object_id:\n",
    "            return \"Object exists\"\n",
    "    return \"Not found\""
   ]
  },
  {
   "cell_type": "code",
   "execution_count": 2,
   "metadata": {},
   "outputs": [],
   "source": [
    "class A:\n",
    "    def __init__(self):\n",
    "        self.b = B(self)\n",
    "        print('A: self: {0}, b:{1}'.format(hex(id(self)), hex(id(self.b))))"
   ]
  },
  {
   "cell_type": "code",
   "execution_count": 3,
   "metadata": {},
   "outputs": [],
   "source": [
    "class B:\n",
    "    def __init__(self, a):\n",
    "        self.a = a\n",
    "        print('B: self: {0}, a: {1}'.format(hex(id(self)), hex(id(self.a))))"
   ]
  },
  {
   "cell_type": "markdown",
   "metadata": {},
   "source": [
    "#### Behind the scenes of the above code snippet\n",
    "Class A has a parameter 'b'. B pints to memory address of class B. Class B takes class A as argument. Class B has parameter 'a'. Parameter 'a' of class B points to class A"
   ]
  },
  {
   "cell_type": "markdown",
   "metadata": {},
   "source": [
    "We manually disable the garbage collector for better illustrational purposes"
   ]
  },
  {
   "cell_type": "code",
   "execution_count": 4,
   "metadata": {},
   "outputs": [],
   "source": [
    "gc.disable()"
   ]
  },
  {
   "cell_type": "markdown",
   "metadata": {},
   "source": [
    "Let us now createa an instance of A, say **my_var**"
   ]
  },
  {
   "cell_type": "code",
   "execution_count": 5,
   "metadata": {},
   "outputs": [
    {
     "name": "stdout",
     "output_type": "stream",
     "text": [
      "B: self: 0x7efeb4448c10, a: 0x7efeb4448bd0\n",
      "A: self: 0x7efeb4448bd0, b:0x7efeb4448c10\n"
     ]
    }
   ],
   "source": [
    "my_var = A()"
   ]
  },
  {
   "cell_type": "markdown",
   "metadata": {},
   "source": [
    "**NOTE : id(B) = id(b) and id(A) = id(a). This implies the situation of circular reference**"
   ]
  },
  {
   "cell_type": "code",
   "execution_count": 7,
   "metadata": {},
   "outputs": [
    {
     "name": "stdout",
     "output_type": "stream",
     "text": [
      "refcount(a) = 2\n",
      "refcount(b) = 1\n",
      "a: Object exists\n",
      "b: Object exists\n"
     ]
    }
   ],
   "source": [
    "a_id = id(my_var)\n",
    "b_id = id(my_var.b)\n",
    "\n",
    "print('refcount(a) = {0}'.format(ref_count(a_id)))\n",
    "print('refcount(b) = {0}'.format(ref_count(b_id)))\n",
    "print('a: {0}'.format(object_by_id(a_id)))\n",
    "print('b: {0}'.format(object_by_id(b_id)))"
   ]
  },
  {
   "cell_type": "markdown",
   "metadata": {},
   "source": [
    "Reference Count of a = 2 because both my_var and B point to A<br>\n",
    "Both a and b exists in memory"
   ]
  },
  {
   "cell_type": "code",
   "execution_count": 8,
   "metadata": {},
   "outputs": [],
   "source": [
    "my_var= None"
   ]
  },
  {
   "cell_type": "markdown",
   "metadata": {},
   "source": [
    "We deallocate or remove my_var's reference to create a Circular Reference Situation"
   ]
  },
  {
   "cell_type": "code",
   "execution_count": 9,
   "metadata": {},
   "outputs": [
    {
     "name": "stdout",
     "output_type": "stream",
     "text": [
      "refcount(a) = 1\n",
      "refcount(b) = 1\n",
      "a: Object exists\n",
      "b: Object exists\n"
     ]
    }
   ],
   "source": [
    "print('refcount(a) = {0}'.format(ref_count(a_id)))\n",
    "print('refcount(b) = {0}'.format(ref_count(b_id)))\n",
    "print('a: {0}'.format(object_by_id(a_id)))\n",
    "print('b: {0}'.format(object_by_id(b_id)))"
   ]
  },
  {
   "cell_type": "code",
   "execution_count": 10,
   "metadata": {},
   "outputs": [
    {
     "name": "stdout",
     "output_type": "stream",
     "text": [
      "refcount(a) = 0\n",
      "refcount(b) = 0\n",
      "a: Not found\n",
      "b: Not found\n"
     ]
    }
   ],
   "source": [
    "gc.collect()\n",
    "print('refcount(a) = {0}'.format(ref_count(a_id)))\n",
    "print('refcount(b) = {0}'.format(ref_count(b_id)))\n",
    "print('a: {0}'.format(object_by_id(a_id)))\n",
    "print('b: {0}'.format(object_by_id(b_id)))"
   ]
  },
  {
   "cell_type": "markdown",
   "metadata": {},
   "source": [
    "When we run the garbage collector manually using the gc.collect() statement, both object a and b gets destroyed. Hence garbage collector does its job"
   ]
  },
  {
   "cell_type": "markdown",
   "metadata": {},
   "source": [
    "### EXTRAS"
   ]
  },
  {
   "cell_type": "markdown",
   "metadata": {},
   "source": [
    "In python versions less than 3.4, the garbage collector(switched on by default) doesnt perform well when a destructor is used in the class. This is because, the destructor will erase a class's objects in a particular order and the Garbage Collector doesnt know that order.<br>\n",
    "<br>\n",
    "Whereas this problem is overcomed by python versions 3.4 and above"
   ]
  }
 ],
 "metadata": {
  "kernelspec": {
   "display_name": "Python 3",
   "language": "python",
   "name": "python3"
  },
  "language_info": {
   "codemirror_mode": {
    "name": "ipython",
    "version": 3
   },
   "file_extension": ".py",
   "mimetype": "text/x-python",
   "name": "python",
   "nbconvert_exporter": "python",
   "pygments_lexer": "ipython3",
   "version": "3.7.5"
  }
 },
 "nbformat": 4,
 "nbformat_minor": 4
}
