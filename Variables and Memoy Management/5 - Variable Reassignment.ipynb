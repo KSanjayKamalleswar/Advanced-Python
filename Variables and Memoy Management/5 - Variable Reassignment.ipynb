{
 "cells": [
  {
   "cell_type": "markdown",
   "metadata": {},
   "source": [
    "# Variable Reassignment"
   ]
  },
  {
   "cell_type": "markdown",
   "metadata": {},
   "source": [
    "Suppose we have an object, say \"A\" and points to memory corresponding to integer 10."
   ]
  },
  {
   "cell_type": "code",
   "execution_count": 2,
   "metadata": {},
   "outputs": [
    {
     "name": "stdout",
     "output_type": "stream",
     "text": [
      "0x8df1c0\n"
     ]
    }
   ],
   "source": [
    "A = 10\n",
    "print(hex(id(A)))"
   ]
  },
  {
   "cell_type": "markdown",
   "metadata": {},
   "source": [
    "Suppose we reassign A as , A = 15. Then, A now points to new address which correspond to 15, whereas the 10 at address \"0x8dfic0\" remains unaltered. Meaning that Values in that address is not altered. Instead, the pointer gets altered."
   ]
  },
  {
   "cell_type": "code",
   "execution_count": 3,
   "metadata": {},
   "outputs": [
    {
     "name": "stdout",
     "output_type": "stream",
     "text": [
      "0x8df1c0\n",
      "0x8df260\n"
     ]
    }
   ],
   "source": [
    "A = 10\n",
    "print(hex(id(A)))\n",
    "A = A + 5\n",
    "print(hex(id(A)))"
   ]
  },
  {
   "cell_type": "markdown",
   "metadata": {},
   "source": [
    "Even in this case, where \"A = A+5\", the same happens"
   ]
  }
 ],
 "metadata": {
  "kernelspec": {
   "display_name": "Python 3",
   "language": "python",
   "name": "python3"
  },
  "language_info": {
   "codemirror_mode": {
    "name": "ipython",
    "version": 3
   },
   "file_extension": ".py",
   "mimetype": "text/x-python",
   "name": "python",
   "nbconvert_exporter": "python",
   "pygments_lexer": "ipython3",
   "version": "3.7.5"
  }
 },
 "nbformat": 4,
 "nbformat_minor": 4
}
