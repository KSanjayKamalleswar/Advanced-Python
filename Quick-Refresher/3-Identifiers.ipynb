{
 "cells": [
  {
   "cell_type": "markdown",
   "metadata": {},
   "source": [
    "# Identifiers"
   ]
  },
  {
   "cell_type": "markdown",
   "metadata": {},
   "source": [
    "## Identifier Names - Rules and Conventions"
   ]
  },
  {
   "cell_type": "markdown",
   "metadata": {},
   "source": [
    "Identifier names\n",
    "- are case sensitive\n",
    "- must follow certain rules\n",
    "- should follow certain conventions"
   ]
  },
  {
   "cell_type": "markdown",
   "metadata": {},
   "source": [
    "### Naming Rules"
   ]
  },
  {
   "cell_type": "markdown",
   "metadata": {},
   "source": [
    "- They must start with either an underscore(_) or letter(a-z or A-Z), which can be followed by letters, underscore or digits\n",
    "\n",
    "- They can't be reserved words like **True** , **and** , **if** , **import** etc...."
   ]
  },
  {
   "cell_type": "markdown",
   "metadata": {},
   "source": [
    "### Identifier Conventions"
   ]
  },
  {
   "cell_type": "markdown",
   "metadata": {},
   "source": [
    "**_var** : A convention used for indicating **Private** objects. Objects declared in such a way cannot be imported using \"from module import *\""
   ]
  },
  {
   "cell_type": "markdown",
   "metadata": {},
   "source": [
    "**__var__** : Used for system defined names that have a special meaning to the interpreter  "
   ]
  },
  {
   "cell_type": "markdown",
   "metadata": {},
   "source": [
    "### Other Naming Conventions"
   ]
  },
  {
   "cell_type": "markdown",
   "metadata": {},
   "source": [
    "- **Packages** - all-lowercase names. Preferably no underscores. \n",
    "- **Modules**  - all-lowercase names. Can have underscores. \n",
    "- **Classes**  - CapWords (upper camel case) convention.\n",
    "- **Functions**- lowercase, words separated by underscores (snake_case).\n",
    "- **Variables**- lowercase, words separated by underscores (snake_case).\n",
    "- **Constants**- all-uppercase, words separated by underscores"
   ]
  },
  {
   "cell_type": "code",
   "execution_count": null,
   "metadata": {},
   "outputs": [],
   "source": []
  }
 ],
 "metadata": {
  "kernelspec": {
   "display_name": "Python 3",
   "language": "python",
   "name": "python3"
  },
  "language_info": {
   "codemirror_mode": {
    "name": "ipython",
    "version": 3
   },
   "file_extension": ".py",
   "mimetype": "text/x-python",
   "name": "python",
   "nbconvert_exporter": "python",
   "pygments_lexer": "ipython3",
   "version": "3.7.5"
  }
 },
 "nbformat": 4,
 "nbformat_minor": 4
}
